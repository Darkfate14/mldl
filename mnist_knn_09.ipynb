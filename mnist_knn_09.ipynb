{
 "cells": [
  {
   "cell_type": "code",
   "execution_count": 9,
   "metadata": {},
   "outputs": [
    {
     "name": "stdout",
     "output_type": "stream",
     "text": [
      "WARNING:tensorflow:From <ipython-input-9-9fecfc0878f5>:13: read_data_sets (from tensorflow.contrib.learn.python.learn.datasets.mnist) is deprecated and will be removed in a future version.\n",
      "Instructions for updating:\n",
      "Please use alternatives such as official/mnist/dataset.py from tensorflow/models.\n",
      "WARNING:tensorflow:From C:\\Anaconda3\\envs\\tensorflow\\lib\\site-packages\\tensorflow\\contrib\\learn\\python\\learn\\datasets\\mnist.py:260: maybe_download (from tensorflow.contrib.learn.python.learn.datasets.base) is deprecated and will be removed in a future version.\n",
      "Instructions for updating:\n",
      "Please write your own downloading logic.\n",
      "WARNING:tensorflow:From C:\\Anaconda3\\envs\\tensorflow\\lib\\site-packages\\tensorflow\\contrib\\learn\\python\\learn\\datasets\\mnist.py:262: extract_images (from tensorflow.contrib.learn.python.learn.datasets.mnist) is deprecated and will be removed in a future version.\n",
      "Instructions for updating:\n",
      "Please use tf.data to implement this functionality.\n",
      "Extracting ./mnist_data\\train-images-idx3-ubyte.gz\n",
      "WARNING:tensorflow:From C:\\Anaconda3\\envs\\tensorflow\\lib\\site-packages\\tensorflow\\contrib\\learn\\python\\learn\\datasets\\mnist.py:267: extract_labels (from tensorflow.contrib.learn.python.learn.datasets.mnist) is deprecated and will be removed in a future version.\n",
      "Instructions for updating:\n",
      "Please use tf.data to implement this functionality.\n",
      "Extracting ./mnist_data\\train-labels-idx1-ubyte.gz\n",
      "WARNING:tensorflow:From C:\\Anaconda3\\envs\\tensorflow\\lib\\site-packages\\tensorflow\\contrib\\learn\\python\\learn\\datasets\\mnist.py:110: dense_to_one_hot (from tensorflow.contrib.learn.python.learn.datasets.mnist) is deprecated and will be removed in a future version.\n",
      "Instructions for updating:\n",
      "Please use tf.one_hot on tensors.\n",
      "Extracting ./mnist_data\\t10k-images-idx3-ubyte.gz\n",
      "Extracting ./mnist_data\\t10k-labels-idx1-ubyte.gz\n",
      "WARNING:tensorflow:From C:\\Anaconda3\\envs\\tensorflow\\lib\\site-packages\\tensorflow\\contrib\\learn\\python\\learn\\datasets\\mnist.py:290: DataSet.__init__ (from tensorflow.contrib.learn.python.learn.datasets.mnist) is deprecated and will be removed in a future version.\n",
      "Instructions for updating:\n",
      "Please use alternatives such as official/mnist/dataset.py from tensorflow/models.\n"
     ]
    }
   ],
   "source": [
    "#MNIST데이터 손글씨 아라비아 숫자 0~9 데이터\n",
    "\n",
    "#http://yann.lecun.com/exdb/mnist/ 에서 학습 데이터, 테스트 데이터 다운로드 가능\n",
    "\n",
    "#데이터 input은 아래 스크립트 활용 https://github.com/tensorflow/tensorflow/tree/master/tensorflow/examples/tutorials/mnist\n",
    "\n",
    "import input_data\n",
    "\n",
    "import numpy as np\n",
    "\n",
    "import tensorflow as tf\n",
    "\n",
    "mnist = input_data.read_data_sets(\"./mnist_data\", one_hot=True)"
   ]
  },
  {
   "cell_type": "code",
   "execution_count": 10,
   "metadata": {},
   "outputs": [
    {
     "name": "stdout",
     "output_type": "stream",
     "text": [
      "[[0. 0. 0. 0. 0. 0. 0. 0. 1. 0.]\n",
      " [0. 0. 1. 0. 0. 0. 0. 0. 0. 0.]\n",
      " [0. 0. 0. 0. 1. 0. 0. 0. 0. 0.]\n",
      " [0. 0. 0. 0. 0. 0. 0. 1. 0. 0.]\n",
      " [0. 0. 0. 1. 0. 0. 0. 0. 0. 0.]\n",
      " [0. 0. 0. 0. 0. 0. 0. 0. 1. 0.]\n",
      " [0. 0. 0. 0. 0. 0. 0. 0. 0. 1.]\n",
      " [0. 0. 0. 0. 1. 0. 0. 0. 0. 0.]\n",
      " [0. 0. 0. 0. 1. 0. 0. 0. 0. 0.]\n",
      " [0. 0. 0. 0. 0. 0. 1. 0. 0. 0.]]\n"
     ]
    }
   ],
   "source": [
    "#100개 이미지 학습\n",
    "\n",
    "train_pixels,train_list_values = mnist.train.next_batch(100)\n",
    "\n",
    "#print(train_pixels)\n",
    "\n",
    "#print(train_list_values)\n",
    "\n",
    "#10개 테스트\n",
    "\n",
    "test_pixels,test_list_of_values = mnist.test.next_batch(10)\n",
    "\n",
    "print(test_list_of_values)"
   ]
  },
  {
   "cell_type": "code",
   "execution_count": 11,
   "metadata": {},
   "outputs": [],
   "source": [
    "#텐서 정의\n",
    "\n",
    "train_pixel_tensor = tf.placeholder(\"float\",[None,784])\n",
    "\n",
    "test_pixel_tensor = tf.placeholder(\"float\",[784])"
   ]
  },
  {
   "cell_type": "code",
   "execution_count": 12,
   "metadata": {},
   "outputs": [],
   "source": [
    "#비용함수 정의 텐서의 차원을 탐색하며 개체들의 총합 계산   _reduce_sum 함수: 텐서의 차원을 탐색하며 개체의 총합 계산\n",
    "\n",
    "distance = tf.reduce_sum(tf.abs(tf.add(train_pixel_tensor,tf.negative(test_pixel_tensor))),reduction_indices=1)\n",
    "\n",
    "\n",
    "\n",
    "#reduce_sum\n",
    "\n",
    "#x=[[1,1,1],[1,1,1]]\n",
    "\n",
    "#tf.reduce_sum(x) -> 6\n",
    "\n",
    "#tf.reduce_sum(x,0) -> [2,2,2]\n",
    "\n",
    "#tf.reduce_sum(x,1) -> [3,3]\n",
    "\n",
    "#tf.reduce_sum(x,1,keep_dims=True) -> [[3],[3]]\n",
    "\n",
    "#tf.reduce_sum(x,[0,1]) -> 6"
   ]
  },
  {
   "cell_type": "code",
   "execution_count": 13,
   "metadata": {},
   "outputs": [
    {
     "name": "stdout",
     "output_type": "stream",
     "text": [
      "WARNING:tensorflow:From <ipython-input-13-3209ae83f66a>:3: arg_min (from tensorflow.python.ops.gen_math_ops) is deprecated and will be removed in a future version.\n",
      "Instructions for updating:\n",
      "Use `tf.math.argmin` instead\n"
     ]
    }
   ],
   "source": [
    "#비용함수 최소화를 위해 arg_min 사용 가장 작은 거리를 갖는 인덱스 리턴(최근접 이웃)\n",
    "\n",
    "pred = tf.arg_min(distance,0)"
   ]
  },
  {
   "cell_type": "code",
   "execution_count": 18,
   "metadata": {},
   "outputs": [
    {
     "name": "stdout",
     "output_type": "stream",
     "text": [
      "Test No.  0 Predict Class:  3 True class:  8\n",
      "Test No.  1 Predict Class:  2 True class:  2\n",
      "Test No.  2 Predict Class:  4 True class:  4\n",
      "Test No.  3 Predict Class:  4 True class:  7\n",
      "Test No.  4 Predict Class:  3 True class:  3\n",
      "Test No.  5 Predict Class:  1 True class:  8\n",
      "Test No.  6 Predict Class:  4 True class:  9\n",
      "Test No.  7 Predict Class:  4 True class:  4\n",
      "Test No.  8 Predict Class:  4 True class:  4\n",
      "Test No.  9 Predict Class:  6 True class:  6\n",
      "Result Accuracy = 0.6\n"
     ]
    }
   ],
   "source": [
    "accuracy=0\n",
    "\n",
    "init = tf.global_variables_initializer()\n",
    "\n",
    "with tf.Session() as sess:\n",
    "\n",
    "    sess.run(init)\n",
    "\n",
    "    for i in range(len(test_list_of_values)):\n",
    "\n",
    "        nn_index = sess.run(pred, feed_dict={train_pixel_tensor:train_pixels, test_pixel_tensor:test_pixels[i,:]})\n",
    "\n",
    "        print(\"Test No. \",i,\"Predict Class: \",np.argmax(train_list_values[nn_index]),\"True class: \",np.argmax(test_list_of_values[i]))\n",
    "\n",
    "        if np.argmax(train_list_values[nn_index])==np.argmax(test_list_of_values[i]):\n",
    "\n",
    "            accuracy+=1.0/len(test_pixels)\n",
    "\n",
    "    print(\"Result Accuracy =\",accuracy)"
   ]
  },
  {
   "cell_type": "code",
   "execution_count": null,
   "metadata": {},
   "outputs": [],
   "source": []
  },
  {
   "cell_type": "code",
   "execution_count": null,
   "metadata": {},
   "outputs": [],
   "source": []
  }
 ],
 "metadata": {
  "kernelspec": {
   "display_name": "Python 3",
   "language": "python",
   "name": "python3"
  },
  "language_info": {
   "codemirror_mode": {
    "name": "ipython",
    "version": 3
   },
   "file_extension": ".py",
   "mimetype": "text/x-python",
   "name": "python",
   "nbconvert_exporter": "python",
   "pygments_lexer": "ipython3",
   "version": "3.6.8"
  }
 },
 "nbformat": 4,
 "nbformat_minor": 2
}
